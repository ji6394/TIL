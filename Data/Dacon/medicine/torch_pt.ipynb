{
 "cells": [
  {
   "cell_type": "code",
   "execution_count": 2,
   "id": "f72f1398",
   "metadata": {},
   "outputs": [
    {
     "name": "stdout",
     "output_type": "stream",
     "text": [
      "Collecting torch_geometric\n",
      "  Downloading torch_geometric-2.3.1.tar.gz (661 kB)\n",
      "     -------------------------------------- 661.6/661.6 kB 4.1 MB/s eta 0:00:00\n",
      "  Installing build dependencies: started\n",
      "  Installing build dependencies: finished with status 'done'\n",
      "  Getting requirements to build wheel: started\n",
      "  Getting requirements to build wheel: finished with status 'done'\n",
      "  Preparing metadata (pyproject.toml): started\n",
      "  Preparing metadata (pyproject.toml): finished with status 'done'\n",
      "Requirement already satisfied: scipy in c:\\users\\82108\\anaconda3\\envs\\new\\lib\\site-packages (from torch_geometric) (1.10.1)\n",
      "Requirement already satisfied: jinja2 in c:\\users\\82108\\anaconda3\\envs\\new\\lib\\site-packages (from torch_geometric) (3.1.2)\n",
      "Requirement already satisfied: pyparsing in c:\\users\\82108\\anaconda3\\envs\\new\\lib\\site-packages (from torch_geometric) (3.0.9)\n",
      "Requirement already satisfied: scikit-learn in c:\\users\\82108\\anaconda3\\envs\\new\\lib\\site-packages (from torch_geometric) (1.1.3)\n",
      "Requirement already satisfied: numpy in c:\\users\\82108\\anaconda3\\envs\\new\\lib\\site-packages (from torch_geometric) (1.23.5)\n",
      "Requirement already satisfied: psutil>=5.8.0 in c:\\users\\82108\\anaconda3\\envs\\new\\lib\\site-packages (from torch_geometric) (5.9.0)\n",
      "Requirement already satisfied: tqdm in c:\\users\\82108\\anaconda3\\envs\\new\\lib\\site-packages (from torch_geometric) (4.64.1)\n",
      "Requirement already satisfied: requests in c:\\users\\82108\\anaconda3\\envs\\new\\lib\\site-packages (from torch_geometric) (2.28.1)\n",
      "Requirement already satisfied: MarkupSafe>=2.0 in c:\\users\\82108\\anaconda3\\envs\\new\\lib\\site-packages (from jinja2->torch_geometric) (2.1.1)\n",
      "Requirement already satisfied: idna<4,>=2.5 in c:\\users\\82108\\anaconda3\\envs\\new\\lib\\site-packages (from requests->torch_geometric) (3.4)\n",
      "Requirement already satisfied: urllib3<1.27,>=1.21.1 in c:\\users\\82108\\anaconda3\\envs\\new\\lib\\site-packages (from requests->torch_geometric) (1.26.12)\n",
      "Requirement already satisfied: certifi>=2017.4.17 in c:\\users\\82108\\anaconda3\\envs\\new\\lib\\site-packages (from requests->torch_geometric) (2022.9.24)\n",
      "Requirement already satisfied: charset-normalizer<3,>=2 in c:\\users\\82108\\anaconda3\\envs\\new\\lib\\site-packages (from requests->torch_geometric) (2.0.4)\n",
      "Requirement already satisfied: threadpoolctl>=2.0.0 in c:\\users\\82108\\anaconda3\\envs\\new\\lib\\site-packages (from scikit-learn->torch_geometric) (2.2.0)\n",
      "Requirement already satisfied: joblib>=1.0.0 in c:\\users\\82108\\anaconda3\\envs\\new\\lib\\site-packages (from scikit-learn->torch_geometric) (1.2.0)\n",
      "Requirement already satisfied: colorama in c:\\users\\82108\\anaconda3\\envs\\new\\lib\\site-packages (from tqdm->torch_geometric) (0.4.6)\n",
      "Building wheels for collected packages: torch_geometric\n",
      "  Building wheel for torch_geometric (pyproject.toml): started\n",
      "  Building wheel for torch_geometric (pyproject.toml): finished with status 'done'\n",
      "  Created wheel for torch_geometric: filename=torch_geometric-2.3.1-py3-none-any.whl size=910499 sha256=4044403a83860bfcca0f5222f66b4ac6c68bf36e63dba94003bb74b6f097f0b6\n",
      "  Stored in directory: c:\\users\\82108\\appdata\\local\\pip\\cache\\wheels\\ac\\dc\\30\\e2874821ff308ee67dcd7a66dbde912411e19e35a1addda028\n",
      "Successfully built torch_geometric\n",
      "Installing collected packages: torch_geometric\n",
      "Successfully installed torch_geometric-2.3.1\n"
     ]
    },
    {
     "name": "stderr",
     "output_type": "stream",
     "text": [
      "WARNING: Ignoring invalid distribution -ensorflow (c:\\users\\82108\\anaconda3\\envs\\new\\lib\\site-packages)\n",
      "WARNING: Ignoring invalid distribution -ensorflow (c:\\users\\82108\\anaconda3\\envs\\new\\lib\\site-packages)\n",
      "WARNING: Ignoring invalid distribution -ensorflow (c:\\users\\82108\\anaconda3\\envs\\new\\lib\\site-packages)\n",
      "WARNING: Ignoring invalid distribution -ensorflow (c:\\users\\82108\\anaconda3\\envs\\new\\lib\\site-packages)\n",
      "WARNING: Ignoring invalid distribution -ensorflow (c:\\users\\82108\\anaconda3\\envs\\new\\lib\\site-packages)\n",
      "WARNING: Ignoring invalid distribution -ensorflow (c:\\users\\82108\\anaconda3\\envs\\new\\lib\\site-packages)\n",
      "WARNING: Ignoring invalid distribution -ensorflow (c:\\users\\82108\\anaconda3\\envs\\new\\lib\\site-packages)\n"
     ]
    }
   ],
   "source": [
    "!pip install torch_geometric"
   ]
  },
  {
   "cell_type": "code",
   "execution_count": 3,
   "id": "a6589bfe",
   "metadata": {},
   "outputs": [],
   "source": [
    "import torch\n",
    "from torch_geometric.data import Data\n",
    "import pandas as pd\n",
    "import numpy as np"
   ]
  },
  {
   "cell_type": "code",
   "execution_count": 4,
   "id": "4d44cf86",
   "metadata": {},
   "outputs": [],
   "source": [
    "edge_index = torch.tensor([[0,1,1,2],[1,0,2,1]], dtype=torch.long)"
   ]
  },
  {
   "cell_type": "code",
   "execution_count": 5,
   "id": "60b816ca",
   "metadata": {},
   "outputs": [
    {
     "data": {
      "text/plain": [
       "tensor([[0, 1, 1, 2],\n",
       "        [1, 0, 2, 1]])"
      ]
     },
     "execution_count": 5,
     "metadata": {},
     "output_type": "execute_result"
    }
   ],
   "source": [
    "edge_index"
   ]
  },
  {
   "cell_type": "code",
   "execution_count": 6,
   "id": "a53b6ef3",
   "metadata": {},
   "outputs": [],
   "source": [
    "x = torch.tensor([[-1],[0],[1]], dtype = torch.float)"
   ]
  },
  {
   "cell_type": "code",
   "execution_count": 7,
   "id": "7d39e247",
   "metadata": {},
   "outputs": [],
   "source": [
    "data = Data(x=x, edge_index = edge_index)"
   ]
  },
  {
   "cell_type": "code",
   "execution_count": 8,
   "id": "70ec5f8a",
   "metadata": {},
   "outputs": [
    {
     "data": {
      "text/plain": [
       "Data(x=[3, 1], edge_index=[2, 4])"
      ]
     },
     "execution_count": 8,
     "metadata": {},
     "output_type": "execute_result"
    }
   ],
   "source": [
    "data"
   ]
  },
  {
   "cell_type": "code",
   "execution_count": null,
   "id": "97bc7698",
   "metadata": {},
   "outputs": [],
   "source": [
    "https://manywisdom-career.tistory.com/98"
   ]
  }
 ],
 "metadata": {
  "kernelspec": {
   "display_name": "Python 3 (ipykernel)",
   "language": "python",
   "name": "python3"
  },
  "language_info": {
   "codemirror_mode": {
    "name": "ipython",
    "version": 3
   },
   "file_extension": ".py",
   "mimetype": "text/x-python",
   "name": "python",
   "nbconvert_exporter": "python",
   "pygments_lexer": "ipython3",
   "version": "3.10.8"
  }
 },
 "nbformat": 4,
 "nbformat_minor": 5
}
