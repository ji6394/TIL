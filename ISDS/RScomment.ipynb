{
 "cells": [
  {
   "cell_type": "markdown",
   "metadata": {},
   "source": [
    "### 다음 모바일 카페 페이지의 경우 댓글 페이지가 따로 존재함"
   ]
  },
  {
   "cell_type": "code",
   "execution_count": null,
   "metadata": {},
   "outputs": [],
   "source": [
    "# 댓글 페이지로 이동\n",
    "driver.get('http://m.cafe.daum.net/{0}/{1}/{2}/comments'.format(CAFE_NAME, BOARD_NAME, inp_num))\n",
    "time.sleep(1)\n",
    "\n",
    "# 댓글 페이지\n",
    "html = driver.page_source\n",
    "soup = BeautifulSoup(html, 'html.parser')\n",
    "\n",
    "# for문을 이용하여 댓글 페이지를 역순으로 크롤링\n",
    "\n",
    "for i in range(cmt_page_max):\n",
    "    j = cmt_page_max-i\n",
    "    \n",
    "    # 캡처\n",
    "    html = driver.page_source\n",
    "    soup = BeautifulSoup(html, 'html.parser')\n",
    "    \n",
    "    # 페이지 내의 코멘트들을 모두 찾자\n",
    "    cmt_all = soup.body.find('ul', id = 'commentList').find_all('li')\n",
    "    \n",
    "    # 찾은 코멘트들을 언패킹하자\n",
    "    for k in cmt_all:\n",
    "        if k.div.span.find_all('span', class_ = 'txt_bar'):\n",
    "            if k['class'] == ['reply_on']:\n",
    "                cmt_reply = True\n",
    "                print('ㄴ', end='') #대댓글을 따로 처리? 걍 또다른 댓글이라고 치자..\n",
    "            else:\n",
    "                cmt_reply = False\n",
    "                \n",
    "            cmt_num = inp_num +'_'+ k['id'].split('comment_')[1]\n",
    "            cmt_writer = k.div.find('span', class_='sr_only').next_sibling\n",
    "            cmt_time = k.div.span.find('span', class_='num_info').get_text()\n",
    "            cmt_txt = k.div.find('span', class_='txt_detail').get_text(strip=True)\n",
    "            \n",
    "            # 언패킹한 결과물을 화면 출력\n",
    "            print(cmt_num, '[', cmt_writer,']', cmt_time, cmt_txt)\n",
    "\n",
    "    # 페이지가 0으로 넘어가지 않도록 if문 작성\n",
    "    \n",
    "    if j > 1:\n",
    "        #페이지 이동\n",
    "        driver.get('http://m.cafe.daum.net/{0}/{1}/{2}/comments?prev_page = {3}&mode=regular&depth={4}&page={5}'.format(CAFE_NAME, BOARD_NAME, inp_num, j, '0002100000', (j-1)))\n",
    "        time.sleep(2)"
   ]
  }
 ],
 "metadata": {
  "language_info": {
   "name": "python"
  }
 },
 "nbformat": 4,
 "nbformat_minor": 2
}
