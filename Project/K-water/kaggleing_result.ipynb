{
 "cells": [
  {
   "cell_type": "code",
   "execution_count": 82,
   "id": "70c1c953",
   "metadata": {},
   "outputs": [
    {
     "name": "stdout",
     "output_type": "stream",
     "text": [
      "['.ipynb_checkpoints', 'data_tr_apo.csv', 'data_ts_apo.csv', 'EDA.ipynb', 'kaggleing.ipynb', 'sample_apo.csv', 'Untitled.ipynb']\n"
     ]
    }
   ],
   "source": [
    "\"\"\"필요 라이브러리들 호출\"\"\"\n",
    "#https://www.kaggle.com/code/kwonyoung234/for-beginner\n",
    "import warnings\n",
    "warnings.filterwarnings('ignore')\n",
    "\n",
    "import numpy as np \n",
    "import pandas as pd \n",
    "import seaborn as sns #시각화를 위한 라이브러리\n",
    "import matplotlib.pyplot as plt\n",
    "import calendar \n",
    "from datetime import datetime\n",
    "\n",
    "import os\n",
    "print(os.listdir())"
   ]
  },
  {
   "cell_type": "code",
   "execution_count": 83,
   "id": "f3107c99",
   "metadata": {},
   "outputs": [
    {
     "data": {
      "text/plain": [
       "0    2020-12-25\n",
       "1    2020-12-26\n",
       "2    2020-12-27\n",
       "3    2020-12-28\n",
       "4    2020-12-29\n",
       "        ...    \n",
       "95   2021-03-30\n",
       "96   2021-03-31\n",
       "97   2021-04-01\n",
       "98   2021-04-02\n",
       "99   2021-04-03\n",
       "Length: 100, dtype: datetime64[ns]"
      ]
     },
     "execution_count": 83,
     "metadata": {},
     "output_type": "execute_result"
    }
   ],
   "source": [
    "s = pd.Series(pd.date_range(\"2020-12-25\", periods=100, freq=\"D\"))\n",
    "s"
   ]
  },
  {
   "cell_type": "code",
   "execution_count": 84,
   "id": "4472cd25",
   "metadata": {},
   "outputs": [
    {
     "data": {
      "text/plain": [
       "0     4\n",
       "1     5\n",
       "2     6\n",
       "3     0\n",
       "4     1\n",
       "     ..\n",
       "95    1\n",
       "96    2\n",
       "97    3\n",
       "98    4\n",
       "99    5\n",
       "Length: 100, dtype: int64"
      ]
     },
     "execution_count": 84,
     "metadata": {},
     "output_type": "execute_result"
    }
   ],
   "source": [
    "s.dt.weekday"
   ]
  },
  {
   "cell_type": "code",
   "execution_count": null,
   "id": "320ce3ce",
   "metadata": {},
   "outputs": [],
   "source": []
  },
  {
   "cell_type": "code",
   "execution_count": 85,
   "id": "eb04c38b",
   "metadata": {},
   "outputs": [],
   "source": [
    "train = pd.read_csv('data_tr_apo.csv')"
   ]
  },
  {
   "cell_type": "code",
   "execution_count": 86,
   "id": "bac5c169",
   "metadata": {},
   "outputs": [],
   "source": [
    "test = pd.read_csv('data_ts_apo.csv')"
   ]
  },
  {
   "cell_type": "code",
   "execution_count": 87,
   "id": "abd896d3",
   "metadata": {},
   "outputs": [
    {
     "data": {
      "text/html": [
       "<div>\n",
       "<style scoped>\n",
       "    .dataframe tbody tr th:only-of-type {\n",
       "        vertical-align: middle;\n",
       "    }\n",
       "\n",
       "    .dataframe tbody tr th {\n",
       "        vertical-align: top;\n",
       "    }\n",
       "\n",
       "    .dataframe thead th {\n",
       "        text-align: right;\n",
       "    }\n",
       "</style>\n",
       "<table border=\"1\" class=\"dataframe\">\n",
       "  <thead>\n",
       "    <tr style=\"text-align: right;\">\n",
       "      <th></th>\n",
       "      <th>datetime</th>\n",
       "      <th>구미 아포배수지 유출유량 적산차</th>\n",
       "    </tr>\n",
       "  </thead>\n",
       "  <tbody>\n",
       "    <tr>\n",
       "      <th>0</th>\n",
       "      <td>2017-01-01 01:00:00</td>\n",
       "      <td>131.0</td>\n",
       "    </tr>\n",
       "    <tr>\n",
       "      <th>1</th>\n",
       "      <td>2017-01-01 02:00:00</td>\n",
       "      <td>64.0</td>\n",
       "    </tr>\n",
       "    <tr>\n",
       "      <th>2</th>\n",
       "      <td>2017-01-01 03:00:00</td>\n",
       "      <td>52.0</td>\n",
       "    </tr>\n",
       "    <tr>\n",
       "      <th>3</th>\n",
       "      <td>2017-01-01 04:00:00</td>\n",
       "      <td>50.0</td>\n",
       "    </tr>\n",
       "    <tr>\n",
       "      <th>4</th>\n",
       "      <td>2017-01-01 05:00:00</td>\n",
       "      <td>49.0</td>\n",
       "    </tr>\n",
       "  </tbody>\n",
       "</table>\n",
       "</div>"
      ],
      "text/plain": [
       "              datetime  구미 아포배수지 유출유량 적산차\n",
       "0  2017-01-01 01:00:00              131.0\n",
       "1  2017-01-01 02:00:00               64.0\n",
       "2  2017-01-01 03:00:00               52.0\n",
       "3  2017-01-01 04:00:00               50.0\n",
       "4  2017-01-01 05:00:00               49.0"
      ]
     },
     "execution_count": 87,
     "metadata": {},
     "output_type": "execute_result"
    }
   ],
   "source": [
    "train.head()"
   ]
  },
  {
   "cell_type": "code",
   "execution_count": 88,
   "id": "7c339a94",
   "metadata": {},
   "outputs": [
    {
     "name": "stdout",
     "output_type": "stream",
     "text": [
      "<class 'pandas.core.frame.DataFrame'>\n",
      "RangeIndex: 35063 entries, 0 to 35062\n",
      "Data columns (total 2 columns):\n",
      " #   Column             Non-Null Count  Dtype  \n",
      "---  ------             --------------  -----  \n",
      " 0   datetime           35063 non-null  object \n",
      " 1   구미 아포배수지 유출유량 적산차  35052 non-null  float64\n",
      "dtypes: float64(1), object(1)\n",
      "memory usage: 548.0+ KB\n"
     ]
    }
   ],
   "source": [
    "train.info()"
   ]
  },
  {
   "cell_type": "code",
   "execution_count": 89,
   "id": "81265d42",
   "metadata": {},
   "outputs": [],
   "source": [
    "#년-원-일 / 시간 분리\n",
    "train['tempDate']= train.datetime.apply(lambda x:x.split())"
   ]
  },
  {
   "cell_type": "code",
   "execution_count": 90,
   "id": "e9c21652",
   "metadata": {},
   "outputs": [
    {
     "data": {
      "text/plain": [
       "0    [2017-01-01, 01:00:00]\n",
       "1    [2017-01-01, 02:00:00]\n",
       "2    [2017-01-01, 03:00:00]\n",
       "3    [2017-01-01, 04:00:00]\n",
       "4    [2017-01-01, 05:00:00]\n",
       "Name: tempDate, dtype: object"
      ]
     },
     "execution_count": 90,
     "metadata": {},
     "output_type": "execute_result"
    }
   ],
   "source": [
    "train['tempDate'].head()"
   ]
  },
  {
   "cell_type": "code",
   "execution_count": 91,
   "id": "6f023289",
   "metadata": {},
   "outputs": [],
   "source": [
    "#year, month, day, weekday column 추출\n",
    "train['year'] = train.tempDate.apply(lambda x:x[0].split('-')[0])\n",
    "train['month'] = train.tempDate.apply(lambda x:x[0].split('-')[1])\n",
    "train['day'] = train.tempDate.apply(lambda x:x[0].split('-')[2])\n",
    "\n",
    "train['weekday'] = train.tempDate.apply(lambda x: calendar.day_name[datetime.strptime(x[0], '%Y-%m-%d').weekday()])\n",
    "train['hour'] = train.tempDate.apply(lambda x:x[1].split(':')[0])"
   ]
  },
  {
   "cell_type": "code",
   "execution_count": 92,
   "id": "fd352c19",
   "metadata": {},
   "outputs": [
    {
     "data": {
      "text/html": [
       "<div>\n",
       "<style scoped>\n",
       "    .dataframe tbody tr th:only-of-type {\n",
       "        vertical-align: middle;\n",
       "    }\n",
       "\n",
       "    .dataframe tbody tr th {\n",
       "        vertical-align: top;\n",
       "    }\n",
       "\n",
       "    .dataframe thead th {\n",
       "        text-align: right;\n",
       "    }\n",
       "</style>\n",
       "<table border=\"1\" class=\"dataframe\">\n",
       "  <thead>\n",
       "    <tr style=\"text-align: right;\">\n",
       "      <th></th>\n",
       "      <th>datetime</th>\n",
       "      <th>구미 아포배수지 유출유량 적산차</th>\n",
       "      <th>tempDate</th>\n",
       "      <th>year</th>\n",
       "      <th>month</th>\n",
       "      <th>day</th>\n",
       "      <th>weekday</th>\n",
       "      <th>hour</th>\n",
       "    </tr>\n",
       "  </thead>\n",
       "  <tbody>\n",
       "    <tr>\n",
       "      <th>0</th>\n",
       "      <td>2017-01-01 01:00:00</td>\n",
       "      <td>131.0</td>\n",
       "      <td>[2017-01-01, 01:00:00]</td>\n",
       "      <td>2017</td>\n",
       "      <td>01</td>\n",
       "      <td>01</td>\n",
       "      <td>Sunday</td>\n",
       "      <td>01</td>\n",
       "    </tr>\n",
       "    <tr>\n",
       "      <th>1</th>\n",
       "      <td>2017-01-01 02:00:00</td>\n",
       "      <td>64.0</td>\n",
       "      <td>[2017-01-01, 02:00:00]</td>\n",
       "      <td>2017</td>\n",
       "      <td>01</td>\n",
       "      <td>01</td>\n",
       "      <td>Sunday</td>\n",
       "      <td>02</td>\n",
       "    </tr>\n",
       "    <tr>\n",
       "      <th>2</th>\n",
       "      <td>2017-01-01 03:00:00</td>\n",
       "      <td>52.0</td>\n",
       "      <td>[2017-01-01, 03:00:00]</td>\n",
       "      <td>2017</td>\n",
       "      <td>01</td>\n",
       "      <td>01</td>\n",
       "      <td>Sunday</td>\n",
       "      <td>03</td>\n",
       "    </tr>\n",
       "    <tr>\n",
       "      <th>3</th>\n",
       "      <td>2017-01-01 04:00:00</td>\n",
       "      <td>50.0</td>\n",
       "      <td>[2017-01-01, 04:00:00]</td>\n",
       "      <td>2017</td>\n",
       "      <td>01</td>\n",
       "      <td>01</td>\n",
       "      <td>Sunday</td>\n",
       "      <td>04</td>\n",
       "    </tr>\n",
       "    <tr>\n",
       "      <th>4</th>\n",
       "      <td>2017-01-01 05:00:00</td>\n",
       "      <td>49.0</td>\n",
       "      <td>[2017-01-01, 05:00:00]</td>\n",
       "      <td>2017</td>\n",
       "      <td>01</td>\n",
       "      <td>01</td>\n",
       "      <td>Sunday</td>\n",
       "      <td>05</td>\n",
       "    </tr>\n",
       "  </tbody>\n",
       "</table>\n",
       "</div>"
      ],
      "text/plain": [
       "              datetime  구미 아포배수지 유출유량 적산차                tempDate  year month  \\\n",
       "0  2017-01-01 01:00:00              131.0  [2017-01-01, 01:00:00]  2017    01   \n",
       "1  2017-01-01 02:00:00               64.0  [2017-01-01, 02:00:00]  2017    01   \n",
       "2  2017-01-01 03:00:00               52.0  [2017-01-01, 03:00:00]  2017    01   \n",
       "3  2017-01-01 04:00:00               50.0  [2017-01-01, 04:00:00]  2017    01   \n",
       "4  2017-01-01 05:00:00               49.0  [2017-01-01, 05:00:00]  2017    01   \n",
       "\n",
       "  day weekday hour  \n",
       "0  01  Sunday   01  \n",
       "1  01  Sunday   02  \n",
       "2  01  Sunday   03  \n",
       "3  01  Sunday   04  \n",
       "4  01  Sunday   05  "
      ]
     },
     "execution_count": 92,
     "metadata": {},
     "output_type": "execute_result"
    }
   ],
   "source": [
    "train.head()"
   ]
  },
  {
   "cell_type": "code",
   "execution_count": 93,
   "id": "6a24a5e5",
   "metadata": {},
   "outputs": [
    {
     "name": "stdout",
     "output_type": "stream",
     "text": [
      "<class 'pandas.core.frame.DataFrame'>\n",
      "RangeIndex: 35063 entries, 0 to 35062\n",
      "Data columns (total 8 columns):\n",
      " #   Column             Non-Null Count  Dtype  \n",
      "---  ------             --------------  -----  \n",
      " 0   datetime           35063 non-null  object \n",
      " 1   구미 아포배수지 유출유량 적산차  35052 non-null  float64\n",
      " 2   tempDate           35063 non-null  object \n",
      " 3   year               35063 non-null  object \n",
      " 4   month              35063 non-null  object \n",
      " 5   day                35063 non-null  object \n",
      " 6   weekday            35063 non-null  object \n",
      " 7   hour               35063 non-null  object \n",
      "dtypes: float64(1), object(7)\n",
      "memory usage: 2.1+ MB\n"
     ]
    }
   ],
   "source": [
    "train.info()"
   ]
  },
  {
   "cell_type": "code",
   "execution_count": 94,
   "id": "72bc44f8",
   "metadata": {},
   "outputs": [],
   "source": [
    "train['year'] = pd.to_numeric(train.year,errors='coerce')\n",
    "train['month']=pd.to_numeric(train.month,errors='coerce')\n",
    "train['day']=pd.to_numeric(train.day,errors='coerce')\n",
    "train['hour']=pd.to_numeric(train.hour, errors='coerce')"
   ]
  },
  {
   "cell_type": "code",
   "execution_count": 95,
   "id": "3aba308d",
   "metadata": {},
   "outputs": [
    {
     "name": "stdout",
     "output_type": "stream",
     "text": [
      "<class 'pandas.core.frame.DataFrame'>\n",
      "RangeIndex: 35063 entries, 0 to 35062\n",
      "Data columns (total 8 columns):\n",
      " #   Column             Non-Null Count  Dtype  \n",
      "---  ------             --------------  -----  \n",
      " 0   datetime           35063 non-null  object \n",
      " 1   구미 아포배수지 유출유량 적산차  35052 non-null  float64\n",
      " 2   tempDate           35063 non-null  object \n",
      " 3   year               35063 non-null  int64  \n",
      " 4   month              35063 non-null  int64  \n",
      " 5   day                35063 non-null  int64  \n",
      " 6   weekday            35063 non-null  object \n",
      " 7   hour               35063 non-null  int64  \n",
      "dtypes: float64(1), int64(4), object(3)\n",
      "memory usage: 2.1+ MB\n"
     ]
    }
   ],
   "source": [
    "train.info()"
   ]
  },
  {
   "cell_type": "code",
   "execution_count": 96,
   "id": "397d3ad1",
   "metadata": {},
   "outputs": [],
   "source": [
    "train = train.drop('tempDate',axis=1)"
   ]
  },
  {
   "cell_type": "code",
   "execution_count": 97,
   "id": "95e96a3c",
   "metadata": {},
   "outputs": [
    {
     "data": {
      "text/plain": [
       "Index(['datetime', '구미 아포배수지 유출유량 적산차', 'year', 'month', 'day', 'weekday',\n",
       "       'hour'],\n",
       "      dtype='object')"
      ]
     },
     "execution_count": 97,
     "metadata": {},
     "output_type": "execute_result"
    }
   ],
   "source": [
    "train.columns"
   ]
  },
  {
   "cell_type": "code",
   "execution_count": 98,
   "id": "a0b7a80c",
   "metadata": {},
   "outputs": [],
   "source": [
    "train.columns = ['datetime','diff','year','month','day','weekday','hour']"
   ]
  },
  {
   "cell_type": "code",
   "execution_count": 99,
   "id": "63430f97",
   "metadata": {},
   "outputs": [
    {
     "data": {
      "text/html": [
       "<div>\n",
       "<style scoped>\n",
       "    .dataframe tbody tr th:only-of-type {\n",
       "        vertical-align: middle;\n",
       "    }\n",
       "\n",
       "    .dataframe tbody tr th {\n",
       "        vertical-align: top;\n",
       "    }\n",
       "\n",
       "    .dataframe thead th {\n",
       "        text-align: right;\n",
       "    }\n",
       "</style>\n",
       "<table border=\"1\" class=\"dataframe\">\n",
       "  <thead>\n",
       "    <tr style=\"text-align: right;\">\n",
       "      <th></th>\n",
       "      <th>datetime</th>\n",
       "      <th>diff</th>\n",
       "      <th>year</th>\n",
       "      <th>month</th>\n",
       "      <th>day</th>\n",
       "      <th>weekday</th>\n",
       "      <th>hour</th>\n",
       "    </tr>\n",
       "  </thead>\n",
       "  <tbody>\n",
       "    <tr>\n",
       "      <th>0</th>\n",
       "      <td>2017-01-01 01:00:00</td>\n",
       "      <td>131.0</td>\n",
       "      <td>2017</td>\n",
       "      <td>1</td>\n",
       "      <td>1</td>\n",
       "      <td>Sunday</td>\n",
       "      <td>1</td>\n",
       "    </tr>\n",
       "    <tr>\n",
       "      <th>1</th>\n",
       "      <td>2017-01-01 02:00:00</td>\n",
       "      <td>64.0</td>\n",
       "      <td>2017</td>\n",
       "      <td>1</td>\n",
       "      <td>1</td>\n",
       "      <td>Sunday</td>\n",
       "      <td>2</td>\n",
       "    </tr>\n",
       "    <tr>\n",
       "      <th>2</th>\n",
       "      <td>2017-01-01 03:00:00</td>\n",
       "      <td>52.0</td>\n",
       "      <td>2017</td>\n",
       "      <td>1</td>\n",
       "      <td>1</td>\n",
       "      <td>Sunday</td>\n",
       "      <td>3</td>\n",
       "    </tr>\n",
       "    <tr>\n",
       "      <th>3</th>\n",
       "      <td>2017-01-01 04:00:00</td>\n",
       "      <td>50.0</td>\n",
       "      <td>2017</td>\n",
       "      <td>1</td>\n",
       "      <td>1</td>\n",
       "      <td>Sunday</td>\n",
       "      <td>4</td>\n",
       "    </tr>\n",
       "    <tr>\n",
       "      <th>4</th>\n",
       "      <td>2017-01-01 05:00:00</td>\n",
       "      <td>49.0</td>\n",
       "      <td>2017</td>\n",
       "      <td>1</td>\n",
       "      <td>1</td>\n",
       "      <td>Sunday</td>\n",
       "      <td>5</td>\n",
       "    </tr>\n",
       "    <tr>\n",
       "      <th>...</th>\n",
       "      <td>...</td>\n",
       "      <td>...</td>\n",
       "      <td>...</td>\n",
       "      <td>...</td>\n",
       "      <td>...</td>\n",
       "      <td>...</td>\n",
       "      <td>...</td>\n",
       "    </tr>\n",
       "    <tr>\n",
       "      <th>35058</th>\n",
       "      <td>2020-12-31 19:00:00</td>\n",
       "      <td>237.0</td>\n",
       "      <td>2020</td>\n",
       "      <td>12</td>\n",
       "      <td>31</td>\n",
       "      <td>Thursday</td>\n",
       "      <td>19</td>\n",
       "    </tr>\n",
       "    <tr>\n",
       "      <th>35059</th>\n",
       "      <td>2020-12-31 20:00:00</td>\n",
       "      <td>92.0</td>\n",
       "      <td>2020</td>\n",
       "      <td>12</td>\n",
       "      <td>31</td>\n",
       "      <td>Thursday</td>\n",
       "      <td>20</td>\n",
       "    </tr>\n",
       "    <tr>\n",
       "      <th>35060</th>\n",
       "      <td>2020-12-31 21:00:00</td>\n",
       "      <td>82.0</td>\n",
       "      <td>2020</td>\n",
       "      <td>12</td>\n",
       "      <td>31</td>\n",
       "      <td>Thursday</td>\n",
       "      <td>21</td>\n",
       "    </tr>\n",
       "    <tr>\n",
       "      <th>35061</th>\n",
       "      <td>2020-12-31 22:00:00</td>\n",
       "      <td>82.0</td>\n",
       "      <td>2020</td>\n",
       "      <td>12</td>\n",
       "      <td>31</td>\n",
       "      <td>Thursday</td>\n",
       "      <td>22</td>\n",
       "    </tr>\n",
       "    <tr>\n",
       "      <th>35062</th>\n",
       "      <td>2020-12-31 23:00:00</td>\n",
       "      <td>74.0</td>\n",
       "      <td>2020</td>\n",
       "      <td>12</td>\n",
       "      <td>31</td>\n",
       "      <td>Thursday</td>\n",
       "      <td>23</td>\n",
       "    </tr>\n",
       "  </tbody>\n",
       "</table>\n",
       "<p>35063 rows × 7 columns</p>\n",
       "</div>"
      ],
      "text/plain": [
       "                  datetime   diff  year  month  day   weekday  hour\n",
       "0      2017-01-01 01:00:00  131.0  2017      1    1    Sunday     1\n",
       "1      2017-01-01 02:00:00   64.0  2017      1    1    Sunday     2\n",
       "2      2017-01-01 03:00:00   52.0  2017      1    1    Sunday     3\n",
       "3      2017-01-01 04:00:00   50.0  2017      1    1    Sunday     4\n",
       "4      2017-01-01 05:00:00   49.0  2017      1    1    Sunday     5\n",
       "...                    ...    ...   ...    ...  ...       ...   ...\n",
       "35058  2020-12-31 19:00:00  237.0  2020     12   31  Thursday    19\n",
       "35059  2020-12-31 20:00:00   92.0  2020     12   31  Thursday    20\n",
       "35060  2020-12-31 21:00:00   82.0  2020     12   31  Thursday    21\n",
       "35061  2020-12-31 22:00:00   82.0  2020     12   31  Thursday    22\n",
       "35062  2020-12-31 23:00:00   74.0  2020     12   31  Thursday    23\n",
       "\n",
       "[35063 rows x 7 columns]"
      ]
     },
     "execution_count": 99,
     "metadata": {},
     "output_type": "execute_result"
    }
   ],
   "source": [
    "train"
   ]
  },
  {
   "cell_type": "code",
   "execution_count": 100,
   "id": "1e4d797a",
   "metadata": {},
   "outputs": [
    {
     "data": {
      "image/png": "[encoded data removed]",
      "text/plain": [
       "<Figure size 1200x1000 with 4 Axes>"
      ]
     },
     "metadata": {},
     "output_type": "display_data"
    }
   ],
   "source": [
    "fig = plt.figure(figsize=(12,10))\n",
    "ax1 = fig.add_subplot(2,2,1)\n",
    "ax1 = sns.barplot(x='year', y='diff', data = train.groupby('year')['diff'].mean().reset_index())\n",
    "\n",
    "ax2 = fig.add_subplot(2,2,2)\n",
    "ax2 = sns.barplot(x='month', y='diff', data = train.groupby('month')['diff'].mean().reset_index())\n",
    "\n",
    "ax3 = fig.add_subplot(2,2,3)\n",
    "ax3 = sns.barplot(x='day',y = 'diff', data = train.groupby('day')['diff'].mean().reset_index())\n",
    "\n",
    "ax4 = fig.add_subplot(2,2,4)\n",
    "ax4 = sns.barplot(x='hour',y='diff', data = train.groupby('hour')['diff'].mean().reset_index())"
   ]
  },
  {
   "cell_type": "code",
   "execution_count": 101,
   "id": "5ff0b520",
   "metadata": {},
   "outputs": [
    {
     "data": {
      "image/png": "[encoded data removed]",
      "text/plain": [
       "<Figure size 2000x2000 with 2 Axes>"
      ]
     },
     "metadata": {},
     "output_type": "display_data"
    }
   ],
   "source": [
    "fig = plt.figure(figsize=(20,20))\n",
    "ax = sns.heatmap(train.corr(), annot=True, square=True)"
   ]
  },
  {
   "cell_type": "code",
   "execution_count": 102,
   "id": "48a40056",
   "metadata": {},
   "outputs": [
    {
     "data": {
      "text/plain": [
       "datetime     0\n",
       "diff        11\n",
       "year         0\n",
       "month        0\n",
       "day          0\n",
       "weekday      0\n",
       "hour         0\n",
       "dtype: int64"
      ]
     },
     "execution_count": 102,
     "metadata": {},
     "output_type": "execute_result"
    }
   ],
   "source": [
    "train.isnull().sum()"
   ]
  },
  {
   "cell_type": "code",
   "execution_count": 103,
   "id": "226e31c5",
   "metadata": {},
   "outputs": [],
   "source": [
    "train = train.dropna(axis=0)"
   ]
  },
  {
   "cell_type": "code",
   "execution_count": 104,
   "id": "5007dfc4",
   "metadata": {},
   "outputs": [
    {
     "data": {
      "text/plain": [
       "datetime    0\n",
       "diff        0\n",
       "year        0\n",
       "month       0\n",
       "day         0\n",
       "weekday     0\n",
       "hour        0\n",
       "dtype: int64"
      ]
     },
     "execution_count": 104,
     "metadata": {},
     "output_type": "execute_result"
    }
   ],
   "source": [
    "train.isnull().sum()"
   ]
  },
  {
   "cell_type": "code",
   "execution_count": 105,
   "id": "b0c12257",
   "metadata": {},
   "outputs": [],
   "source": [
    "train_2017 = train[train['year']==2017]\n",
    "train_2018 = train[train['year']==2018]\n",
    "train_2019 = train[train['year']==2019]\n",
    "train_2020 = train[train['year']==2020]"
   ]
  },
  {
   "cell_type": "code",
   "execution_count": 106,
   "id": "64a22a24",
   "metadata": {},
   "outputs": [
    {
     "data": {
      "text/html": [
       "<div>\n",
       "<style scoped>\n",
       "    .dataframe tbody tr th:only-of-type {\n",
       "        vertical-align: middle;\n",
       "    }\n",
       "\n",
       "    .dataframe tbody tr th {\n",
       "        vertical-align: top;\n",
       "    }\n",
       "\n",
       "    .dataframe thead th {\n",
       "        text-align: right;\n",
       "    }\n",
       "</style>\n",
       "<table border=\"1\" class=\"dataframe\">\n",
       "  <thead>\n",
       "    <tr style=\"text-align: right;\">\n",
       "      <th></th>\n",
       "      <th>datetime</th>\n",
       "      <th>diff</th>\n",
       "      <th>year</th>\n",
       "      <th>month</th>\n",
       "      <th>day</th>\n",
       "      <th>weekday</th>\n",
       "      <th>hour</th>\n",
       "    </tr>\n",
       "  </thead>\n",
       "  <tbody>\n",
       "    <tr>\n",
       "      <th>17519</th>\n",
       "      <td>2019-01-01 00:00:00</td>\n",
       "      <td>71.0</td>\n",
       "      <td>2019</td>\n",
       "      <td>1</td>\n",
       "      <td>1</td>\n",
       "      <td>Tuesday</td>\n",
       "      <td>0</td>\n",
       "    </tr>\n",
       "    <tr>\n",
       "      <th>17520</th>\n",
       "      <td>2019-01-01 01:00:00</td>\n",
       "      <td>68.0</td>\n",
       "      <td>2019</td>\n",
       "      <td>1</td>\n",
       "      <td>1</td>\n",
       "      <td>Tuesday</td>\n",
       "      <td>1</td>\n",
       "    </tr>\n",
       "    <tr>\n",
       "      <th>17521</th>\n",
       "      <td>2019-01-01 02:00:00</td>\n",
       "      <td>65.0</td>\n",
       "      <td>2019</td>\n",
       "      <td>1</td>\n",
       "      <td>1</td>\n",
       "      <td>Tuesday</td>\n",
       "      <td>2</td>\n",
       "    </tr>\n",
       "    <tr>\n",
       "      <th>17522</th>\n",
       "      <td>2019-01-01 03:00:00</td>\n",
       "      <td>62.0</td>\n",
       "      <td>2019</td>\n",
       "      <td>1</td>\n",
       "      <td>1</td>\n",
       "      <td>Tuesday</td>\n",
       "      <td>3</td>\n",
       "    </tr>\n",
       "    <tr>\n",
       "      <th>17523</th>\n",
       "      <td>2019-01-01 04:00:00</td>\n",
       "      <td>62.0</td>\n",
       "      <td>2019</td>\n",
       "      <td>1</td>\n",
       "      <td>1</td>\n",
       "      <td>Tuesday</td>\n",
       "      <td>4</td>\n",
       "    </tr>\n",
       "    <tr>\n",
       "      <th>...</th>\n",
       "      <td>...</td>\n",
       "      <td>...</td>\n",
       "      <td>...</td>\n",
       "      <td>...</td>\n",
       "      <td>...</td>\n",
       "      <td>...</td>\n",
       "      <td>...</td>\n",
       "    </tr>\n",
       "    <tr>\n",
       "      <th>26274</th>\n",
       "      <td>2019-12-31 19:00:00</td>\n",
       "      <td>150.0</td>\n",
       "      <td>2019</td>\n",
       "      <td>12</td>\n",
       "      <td>31</td>\n",
       "      <td>Tuesday</td>\n",
       "      <td>19</td>\n",
       "    </tr>\n",
       "    <tr>\n",
       "      <th>26275</th>\n",
       "      <td>2019-12-31 20:00:00</td>\n",
       "      <td>198.0</td>\n",
       "      <td>2019</td>\n",
       "      <td>12</td>\n",
       "      <td>31</td>\n",
       "      <td>Tuesday</td>\n",
       "      <td>20</td>\n",
       "    </tr>\n",
       "    <tr>\n",
       "      <th>26276</th>\n",
       "      <td>2019-12-31 21:00:00</td>\n",
       "      <td>76.0</td>\n",
       "      <td>2019</td>\n",
       "      <td>12</td>\n",
       "      <td>31</td>\n",
       "      <td>Tuesday</td>\n",
       "      <td>21</td>\n",
       "    </tr>\n",
       "    <tr>\n",
       "      <th>26277</th>\n",
       "      <td>2019-12-31 22:00:00</td>\n",
       "      <td>70.0</td>\n",
       "      <td>2019</td>\n",
       "      <td>12</td>\n",
       "      <td>31</td>\n",
       "      <td>Tuesday</td>\n",
       "      <td>22</td>\n",
       "    </tr>\n",
       "    <tr>\n",
       "      <th>26278</th>\n",
       "      <td>2019-12-31 23:00:00</td>\n",
       "      <td>65.0</td>\n",
       "      <td>2019</td>\n",
       "      <td>12</td>\n",
       "      <td>31</td>\n",
       "      <td>Tuesday</td>\n",
       "      <td>23</td>\n",
       "    </tr>\n",
       "  </tbody>\n",
       "</table>\n",
       "<p>8758 rows × 7 columns</p>\n",
       "</div>"
      ],
      "text/plain": [
       "                  datetime   diff  year  month  day  weekday  hour\n",
       "17519  2019-01-01 00:00:00   71.0  2019      1    1  Tuesday     0\n",
       "17520  2019-01-01 01:00:00   68.0  2019      1    1  Tuesday     1\n",
       "17521  2019-01-01 02:00:00   65.0  2019      1    1  Tuesday     2\n",
       "17522  2019-01-01 03:00:00   62.0  2019      1    1  Tuesday     3\n",
       "17523  2019-01-01 04:00:00   62.0  2019      1    1  Tuesday     4\n",
       "...                    ...    ...   ...    ...  ...      ...   ...\n",
       "26274  2019-12-31 19:00:00  150.0  2019     12   31  Tuesday    19\n",
       "26275  2019-12-31 20:00:00  198.0  2019     12   31  Tuesday    20\n",
       "26276  2019-12-31 21:00:00   76.0  2019     12   31  Tuesday    21\n",
       "26277  2019-12-31 22:00:00   70.0  2019     12   31  Tuesday    22\n",
       "26278  2019-12-31 23:00:00   65.0  2019     12   31  Tuesday    23\n",
       "\n",
       "[8758 rows x 7 columns]"
      ]
     },
     "execution_count": 106,
     "metadata": {},
     "output_type": "execute_result"
    }
   ],
   "source": [
    "train_2019"
   ]
  },
  {
   "cell_type": "code",
   "execution_count": 107,
   "id": "1641e276",
   "metadata": {},
   "outputs": [
    {
     "data": {
      "image/png": "[encoded data removed]",
      "text/plain": [
       "<Figure size 1200x1000 with 4 Axes>"
      ]
     },
     "metadata": {},
     "output_type": "display_data"
    }
   ],
   "source": [
    "fig = plt.figure(figsize=(12,10))\n",
    "ax1 = fig.add_subplot(2,2,1)\n",
    "ax1 = sns.barplot(x='month', y='diff', data = train_2017.groupby('month')['diff'].mean().reset_index())\n",
    "\n",
    "ax2 = fig.add_subplot(2,2,2)\n",
    "ax2 = sns.barplot(x='month', y='diff', data = train_2018.groupby('month')['diff'].mean().reset_index())\n",
    "\n",
    "ax3 = fig.add_subplot(2,2,3)\n",
    "ax3 = sns.barplot(x='month',y = 'diff', data = train_2019.groupby('month')['diff'].mean().reset_index())\n",
    "\n",
    "ax4 = fig.add_subplot(2,2,4)\n",
    "ax4 = sns.barplot(x='month',y='diff', data = train_2020.groupby('month')['diff'].mean().reset_index())"
   ]
  },
  {
   "cell_type": "code",
   "execution_count": 108,
   "id": "2293358d",
   "metadata": {},
   "outputs": [
    {
     "data": {
      "image/png": "[encoded data removed]",
      "text/plain": [
       "<Figure size 2000x2000 with 2 Axes>"
      ]
     },
     "metadata": {},
     "output_type": "display_data"
    }
   ],
   "source": [
    "fig = plt.figure(figsize=(20,20))\n",
    "ax1 = fig.add_subplot(2,2,1)\n",
    "ax1 = sns.heatmap(train_2017.corr(), annot=True, square=True)\n",
    "# ax2 = fig.add_subplot(2,2,2)\n",
    "# ax2 = sns.barplot(x='month', y='diff', data = train_2018.groupby('month')['diff'].mean().reset_index())\n",
    "\n",
    "# ax3 = fig.add_subplot(2,2,3)\n",
    "# ax3 = sns.barplot(x='month',y = 'diff', data = train_2019.groupby('month')['diff'].mean().reset_index())\n",
    "\n",
    "# ax4 = fig.add_subplot(2,2,4)\n",
    "# ax4 = sns.barplot(x='month',y='diff', data = train_2020.groupby('month')['diff'].mean().reset_index())\n",
    "# ax = sns.heatmap(train.corr(), annot=True, square=True)"
   ]
  },
  {
   "cell_type": "code",
   "execution_count": 109,
   "id": "cdf072f5",
   "metadata": {},
   "outputs": [
    {
     "data": {
      "image/png": "[encoded data removed]",
      "text/plain": [
       "<Figure size 1200x800 with 1 Axes>"
      ]
     },
     "metadata": {},
     "output_type": "display_data"
    }
   ],
   "source": [
    "plt.figure(figsize=(12,8))\n",
    "sns.boxplot(data=train['diff'], color='red')\n",
    "plt.show()"
   ]
  },
  {
   "cell_type": "code",
   "execution_count": 110,
   "id": "3cd17135",
   "metadata": {},
   "outputs": [
    {
     "data": {
      "text/plain": [
       "29.27847215223418"
      ]
     },
     "execution_count": 110,
     "metadata": {},
     "output_type": "execute_result"
    }
   ],
   "source": [
    "#diff 값 중 이상치를 제거한 후 정규화거쳐보자\n",
    "#https://whitewing4139.tistory.com/178\n",
    "\n",
    "train['diff'].skew()"
   ]
  },
  {
   "cell_type": "code",
   "execution_count": 111,
   "id": "71ff5719",
   "metadata": {},
   "outputs": [
    {
     "name": "stdout",
     "output_type": "stream",
     "text": [
      "(35052, 7)\n",
      "(35038, 7)\n"
     ]
    }
   ],
   "source": [
    "trainWithoutOutliers = train[np.abs(train['diff'] - train['diff'].mean()) <= (3 * train['diff'].std())]\n",
    "\n",
    "print(train.shape)\n",
    "print(trainWithoutOutliers.shape)"
   ]
  },
  {
   "cell_type": "code",
   "execution_count": 112,
   "id": "f5947b14",
   "metadata": {},
   "outputs": [
    {
     "data": {
      "image/png": "[encoded data removed]",
      "text/plain": [
       "<Figure size 1200x1000 with 4 Axes>"
      ]
     },
     "metadata": {},
     "output_type": "display_data"
    }
   ],
   "source": [
    "fig = plt.figure(figsize=(12,10))\n",
    "ax1 = fig.add_subplot(2,2,1)\n",
    "ax1 = sns.barplot(x='year', y='diff', data = trainWithoutOutliers.groupby('year')['diff'].mean().reset_index())\n",
    "\n",
    "ax2 = fig.add_subplot(2,2,2)\n",
    "ax2 = sns.barplot(x='month', y='diff', data = trainWithoutOutliers.groupby('month')['diff'].mean().reset_index())\n",
    "\n",
    "ax3 = fig.add_subplot(2,2,3)\n",
    "ax3 = sns.barplot(x='day',y = 'diff', data = trainWithoutOutliers.groupby('day')['diff'].mean().reset_index())\n",
    "\n",
    "ax4 = fig.add_subplot(2,2,4)\n",
    "ax4 = sns.barplot(x='hour',y='diff', data = trainWithoutOutliers.groupby('hour')['diff'].mean().reset_index())"
   ]
  },
  {
   "cell_type": "code",
   "execution_count": 113,
   "id": "fdfdccf5",
   "metadata": {},
   "outputs": [
    {
     "data": {
      "image/png": "[encoded data removed]",
      "text/plain": [
       "<Figure size 2000x2000 with 2 Axes>"
      ]
     },
     "metadata": {},
     "output_type": "display_data"
    }
   ],
   "source": [
    "fig = plt.figure(figsize=(20,20))\n",
    "ax = sns.heatmap(trainWithoutOutliers.corr(), annot=True, square=True)"
   ]
  },
  {
   "cell_type": "code",
   "execution_count": 114,
   "id": "1979660e",
   "metadata": {},
   "outputs": [],
   "source": [
    "#시간별 정렬을 위해 string type의 datetime을 datetime으로 변환\n",
    "train.datetime = pd.to_datetime(train.datetime, errors='coerce')"
   ]
  },
  {
   "cell_type": "code",
   "execution_count": 115,
   "id": "605c978e",
   "metadata": {},
   "outputs": [],
   "source": [
    "train = train.sort_values(by=['datetime'])"
   ]
  },
  {
   "cell_type": "code",
   "execution_count": 116,
   "id": "e3b20e30",
   "metadata": {},
   "outputs": [
    {
     "name": "stdout",
     "output_type": "stream",
     "text": [
      "<class 'pandas.core.frame.DataFrame'>\n",
      "Int64Index: 35052 entries, 0 to 35062\n",
      "Data columns (total 7 columns):\n",
      " #   Column    Non-Null Count  Dtype         \n",
      "---  ------    --------------  -----         \n",
      " 0   datetime  35052 non-null  datetime64[ns]\n",
      " 1   diff      35052 non-null  float64       \n",
      " 2   year      35052 non-null  int64         \n",
      " 3   month     35052 non-null  int64         \n",
      " 4   day       35052 non-null  int64         \n",
      " 5   weekday   35052 non-null  object        \n",
      " 6   hour      35052 non-null  int64         \n",
      "dtypes: datetime64[ns](1), float64(1), int64(4), object(1)\n",
      "memory usage: 2.1+ MB\n"
     ]
    }
   ],
   "source": [
    "train.info()"
   ]
  },
  {
   "cell_type": "code",
   "execution_count": 117,
   "id": "422200fd",
   "metadata": {},
   "outputs": [],
   "source": [
    "train['new_year']=train.datetime.dt.year"
   ]
  },
  {
   "cell_type": "code",
   "execution_count": 118,
   "id": "301f7bdc",
   "metadata": {},
   "outputs": [
    {
     "name": "stdout",
     "output_type": "stream",
     "text": [
      "<class 'pandas.core.frame.DataFrame'>\n",
      "Int64Index: 35052 entries, 0 to 35062\n",
      "Data columns (total 8 columns):\n",
      " #   Column    Non-Null Count  Dtype         \n",
      "---  ------    --------------  -----         \n",
      " 0   datetime  35052 non-null  datetime64[ns]\n",
      " 1   diff      35052 non-null  float64       \n",
      " 2   year      35052 non-null  int64         \n",
      " 3   month     35052 non-null  int64         \n",
      " 4   day       35052 non-null  int64         \n",
      " 5   weekday   35052 non-null  object        \n",
      " 6   hour      35052 non-null  int64         \n",
      " 7   new_year  35052 non-null  int64         \n",
      "dtypes: datetime64[ns](1), float64(1), int64(5), object(1)\n",
      "memory usage: 2.4+ MB\n"
     ]
    }
   ],
   "source": [
    "train.info()"
   ]
  },
  {
   "cell_type": "code",
   "execution_count": 119,
   "id": "48ccc605",
   "metadata": {},
   "outputs": [],
   "source": [
    "train = train.drop('new_year',axis=1)"
   ]
  },
  {
   "cell_type": "code",
   "execution_count": 120,
   "id": "1fc8775b",
   "metadata": {},
   "outputs": [],
   "source": [
    "train = pd.read_csv('data_tr_apo.csv')\n",
    "test = pd.read_csv('data_ts_apo.csv')"
   ]
  },
  {
   "cell_type": "code",
   "execution_count": 121,
   "id": "5b4d8d06",
   "metadata": {},
   "outputs": [],
   "source": [
    "combine = pd.concat([train,test], axis=0)"
   ]
  },
  {
   "cell_type": "code",
   "execution_count": 122,
   "id": "f2b4bc83",
   "metadata": {},
   "outputs": [
    {
     "name": "stdout",
     "output_type": "stream",
     "text": [
      "<class 'pandas.core.frame.DataFrame'>\n",
      "Int64Index: 43487 entries, 0 to 8423\n",
      "Data columns (total 2 columns):\n",
      " #   Column             Non-Null Count  Dtype  \n",
      "---  ------             --------------  -----  \n",
      " 0   datetime           43487 non-null  object \n",
      " 1   구미 아포배수지 유출유량 적산차  43476 non-null  float64\n",
      "dtypes: float64(1), object(1)\n",
      "memory usage: 1019.2+ KB\n"
     ]
    }
   ],
   "source": [
    "combine.info()"
   ]
  },
  {
   "cell_type": "code",
   "execution_count": 123,
   "id": "475c771b",
   "metadata": {},
   "outputs": [],
   "source": [
    "combine['tempDate'] = combine.datetime.apply(lambda x:x.split())\n",
    "combine['weekday'] = combine.tempDate.apply(lambda x: calendar.day_name[datetime.strptime(x[0],\"%Y-%m-%d\").weekday()])\n",
    "combine['year'] = combine.tempDate.apply(lambda x: x[0].split('-')[0])\n",
    "combine['month'] = combine.tempDate.apply(lambda x: x[0].split('-')[1])\n",
    "combine['day'] = combine.tempDate.apply(lambda x: x[0].split('-')[2])\n",
    "combine['hour'] = combine.tempDate.apply(lambda x: x[1].split(':')[0])"
   ]
  },
  {
   "cell_type": "code",
   "execution_count": 124,
   "id": "8a9bcc31",
   "metadata": {},
   "outputs": [],
   "source": [
    "combine['year'] = pd.to_numeric(combine.year,errors='coerce')\n",
    "combine['month'] = pd.to_numeric(combine.month,errors='coerce')\n",
    "combine['day'] = pd.to_numeric(combine.day,errors='coerce')\n",
    "combine['hour'] = pd.to_numeric(combine.hour,errors='coerce')"
   ]
  },
  {
   "cell_type": "code",
   "execution_count": 125,
   "id": "1417c200",
   "metadata": {},
   "outputs": [
    {
     "name": "stdout",
     "output_type": "stream",
     "text": [
      "<class 'pandas.core.frame.DataFrame'>\n",
      "Int64Index: 43487 entries, 0 to 8423\n",
      "Data columns (total 8 columns):\n",
      " #   Column             Non-Null Count  Dtype  \n",
      "---  ------             --------------  -----  \n",
      " 0   datetime           43487 non-null  object \n",
      " 1   구미 아포배수지 유출유량 적산차  43476 non-null  float64\n",
      " 2   tempDate           43487 non-null  object \n",
      " 3   weekday            43487 non-null  object \n",
      " 4   year               43487 non-null  int64  \n",
      " 5   month              43487 non-null  int64  \n",
      " 6   day                43487 non-null  int64  \n",
      " 7   hour               43487 non-null  int64  \n",
      "dtypes: float64(1), int64(4), object(3)\n",
      "memory usage: 3.0+ MB\n"
     ]
    }
   ],
   "source": [
    "combine.info()"
   ]
  },
  {
   "cell_type": "code",
   "execution_count": 126,
   "id": "235054fa",
   "metadata": {},
   "outputs": [],
   "source": [
    "combine.columns = ['datetime','diff','tempDate','weekday','year','month','day','hour']"
   ]
  },
  {
   "cell_type": "code",
   "execution_count": 127,
   "id": "20f55789",
   "metadata": {},
   "outputs": [
    {
     "data": {
      "text/plain": [
       "0       Sunday\n",
       "1       Sunday\n",
       "2       Sunday\n",
       "3       Sunday\n",
       "4       Sunday\n",
       "         ...  \n",
       "8419    Friday\n",
       "8420    Friday\n",
       "8421    Friday\n",
       "8422    Friday\n",
       "8423    Friday\n",
       "Name: weekday, Length: 43487, dtype: object"
      ]
     },
     "execution_count": 127,
     "metadata": {},
     "output_type": "execute_result"
    }
   ],
   "source": [
    "combine.weekday"
   ]
  },
  {
   "cell_type": "code",
   "execution_count": 128,
   "id": "67857b57",
   "metadata": {},
   "outputs": [
    {
     "data": {
      "text/html": [
       "<div>\n",
       "<style scoped>\n",
       "    .dataframe tbody tr th:only-of-type {\n",
       "        vertical-align: middle;\n",
       "    }\n",
       "\n",
       "    .dataframe tbody tr th {\n",
       "        vertical-align: top;\n",
       "    }\n",
       "\n",
       "    .dataframe thead th {\n",
       "        text-align: right;\n",
       "    }\n",
       "</style>\n",
       "<table border=\"1\" class=\"dataframe\">\n",
       "  <thead>\n",
       "    <tr style=\"text-align: right;\">\n",
       "      <th></th>\n",
       "      <th>datetime</th>\n",
       "      <th>diff</th>\n",
       "      <th>tempDate</th>\n",
       "      <th>weekday</th>\n",
       "      <th>year</th>\n",
       "      <th>month</th>\n",
       "      <th>day</th>\n",
       "      <th>hour</th>\n",
       "    </tr>\n",
       "  </thead>\n",
       "  <tbody>\n",
       "    <tr>\n",
       "      <th>0</th>\n",
       "      <td>2017-01-01 01:00:00</td>\n",
       "      <td>131.0</td>\n",
       "      <td>[2017-01-01, 01:00:00]</td>\n",
       "      <td>Sunday</td>\n",
       "      <td>2017</td>\n",
       "      <td>1</td>\n",
       "      <td>1</td>\n",
       "      <td>1</td>\n",
       "    </tr>\n",
       "    <tr>\n",
       "      <th>1</th>\n",
       "      <td>2017-01-01 02:00:00</td>\n",
       "      <td>64.0</td>\n",
       "      <td>[2017-01-01, 02:00:00]</td>\n",
       "      <td>Sunday</td>\n",
       "      <td>2017</td>\n",
       "      <td>1</td>\n",
       "      <td>1</td>\n",
       "      <td>2</td>\n",
       "    </tr>\n",
       "    <tr>\n",
       "      <th>2</th>\n",
       "      <td>2017-01-01 03:00:00</td>\n",
       "      <td>52.0</td>\n",
       "      <td>[2017-01-01, 03:00:00]</td>\n",
       "      <td>Sunday</td>\n",
       "      <td>2017</td>\n",
       "      <td>1</td>\n",
       "      <td>1</td>\n",
       "      <td>3</td>\n",
       "    </tr>\n",
       "    <tr>\n",
       "      <th>3</th>\n",
       "      <td>2017-01-01 04:00:00</td>\n",
       "      <td>50.0</td>\n",
       "      <td>[2017-01-01, 04:00:00]</td>\n",
       "      <td>Sunday</td>\n",
       "      <td>2017</td>\n",
       "      <td>1</td>\n",
       "      <td>1</td>\n",
       "      <td>4</td>\n",
       "    </tr>\n",
       "    <tr>\n",
       "      <th>4</th>\n",
       "      <td>2017-01-01 05:00:00</td>\n",
       "      <td>49.0</td>\n",
       "      <td>[2017-01-01, 05:00:00]</td>\n",
       "      <td>Sunday</td>\n",
       "      <td>2017</td>\n",
       "      <td>1</td>\n",
       "      <td>1</td>\n",
       "      <td>5</td>\n",
       "    </tr>\n",
       "  </tbody>\n",
       "</table>\n",
       "</div>"
      ],
      "text/plain": [
       "              datetime   diff                tempDate weekday  year  month  \\\n",
       "0  2017-01-01 01:00:00  131.0  [2017-01-01, 01:00:00]  Sunday  2017      1   \n",
       "1  2017-01-01 02:00:00   64.0  [2017-01-01, 02:00:00]  Sunday  2017      1   \n",
       "2  2017-01-01 03:00:00   52.0  [2017-01-01, 03:00:00]  Sunday  2017      1   \n",
       "3  2017-01-01 04:00:00   50.0  [2017-01-01, 04:00:00]  Sunday  2017      1   \n",
       "4  2017-01-01 05:00:00   49.0  [2017-01-01, 05:00:00]  Sunday  2017      1   \n",
       "\n",
       "   day  hour  \n",
       "0    1     1  \n",
       "1    1     2  \n",
       "2    1     3  \n",
       "3    1     4  \n",
       "4    1     5  "
      ]
     },
     "execution_count": 128,
     "metadata": {},
     "output_type": "execute_result"
    }
   ],
   "source": [
    "combine.head()"
   ]
  },
  {
   "cell_type": "code",
   "execution_count": 133,
   "id": "1d72d276",
   "metadata": {},
   "outputs": [],
   "source": [
    "combine['weekday'][combine['weekday']=='Sunday']=0\n",
    "combine['weekday'][combine['weekday']=='Monday']=1\n",
    "combine['weekday'][combine['weekday']=='Tuesday']=2\n",
    "combine['weekday'][combine['weekday']=='Wednesday']=3\n",
    "combine['weekday'][combine['weekday']=='Thursday']=4\n",
    "combine['weekday'][combine['weekday']=='Friday']=5\n",
    "combine['weekday'][combine['weekday']=='Saturday']=6"
   ]
  },
  {
   "cell_type": "code",
   "execution_count": 134,
   "id": "79199f38",
   "metadata": {},
   "outputs": [],
   "source": [
    "combine.weekday = combine.weekday.astype('category')"
   ]
  },
  {
   "cell_type": "code",
   "execution_count": 135,
   "id": "8d2b59e3",
   "metadata": {},
   "outputs": [
    {
     "data": {
      "text/plain": [
       "datetime     0\n",
       "diff        11\n",
       "tempDate     0\n",
       "weekday      0\n",
       "year         0\n",
       "month        0\n",
       "day          0\n",
       "hour         0\n",
       "dtype: int64"
      ]
     },
     "execution_count": 135,
     "metadata": {},
     "output_type": "execute_result"
    }
   ],
   "source": [
    "combine.isnull().sum()"
   ]
  },
  {
   "cell_type": "code",
   "execution_count": 136,
   "id": "e26720d8",
   "metadata": {},
   "outputs": [],
   "source": [
    "#데이터 정규화\n",
    "# 이후 빈 값에 대해 randomforest regressor 적용\n",
    "combine = combine.dropna(axis=0)"
   ]
  },
  {
   "cell_type": "code",
   "execution_count": 137,
   "id": "03455fc3",
   "metadata": {},
   "outputs": [
    {
     "data": {
      "text/plain": [
       "datetime    0\n",
       "diff        0\n",
       "tempDate    0\n",
       "weekday     0\n",
       "year        0\n",
       "month       0\n",
       "day         0\n",
       "hour        0\n",
       "dtype: int64"
      ]
     },
     "execution_count": 137,
     "metadata": {},
     "output_type": "execute_result"
    }
   ],
   "source": [
    "combine.isnull().sum()"
   ]
  },
  {
   "cell_type": "code",
   "execution_count": 138,
   "id": "19e1aeaa",
   "metadata": {},
   "outputs": [
    {
     "name": "stdout",
     "output_type": "stream",
     "text": [
      "<class 'pandas.core.frame.DataFrame'>\n",
      "Int64Index: 43476 entries, 0 to 8423\n",
      "Data columns (total 8 columns):\n",
      " #   Column    Non-Null Count  Dtype   \n",
      "---  ------    --------------  -----   \n",
      " 0   datetime  43476 non-null  object  \n",
      " 1   diff      43476 non-null  float64 \n",
      " 2   tempDate  43476 non-null  object  \n",
      " 3   weekday   43476 non-null  category\n",
      " 4   year      43476 non-null  int64   \n",
      " 5   month     43476 non-null  int64   \n",
      " 6   day       43476 non-null  int64   \n",
      " 7   hour      43476 non-null  int64   \n",
      "dtypes: category(1), float64(1), int64(4), object(2)\n",
      "memory usage: 2.7+ MB\n"
     ]
    }
   ],
   "source": [
    "combine.info()"
   ]
  },
  {
   "cell_type": "code",
   "execution_count": 139,
   "id": "c11f03b8",
   "metadata": {},
   "outputs": [],
   "source": [
    "categorizational_columns = ['year','month','day','hour']"
   ]
  },
  {
   "cell_type": "code",
   "execution_count": 140,
   "id": "ab35e321",
   "metadata": {},
   "outputs": [],
   "source": [
    "for col in categorizational_columns:\n",
    "    combine[col] = combine[col].astype('category')"
   ]
  },
  {
   "cell_type": "code",
   "execution_count": 141,
   "id": "ab004de7",
   "metadata": {},
   "outputs": [],
   "source": [
    "combine['datetime'] = pd.to_datetime(combine['datetime'])"
   ]
  },
  {
   "cell_type": "code",
   "execution_count": 142,
   "id": "aa8e1a32",
   "metadata": {},
   "outputs": [
    {
     "name": "stdout",
     "output_type": "stream",
     "text": [
      "<class 'pandas.core.frame.DataFrame'>\n",
      "Int64Index: 43476 entries, 0 to 8423\n",
      "Data columns (total 8 columns):\n",
      " #   Column    Non-Null Count  Dtype         \n",
      "---  ------    --------------  -----         \n",
      " 0   datetime  43476 non-null  datetime64[ns]\n",
      " 1   diff      43476 non-null  float64       \n",
      " 2   tempDate  43476 non-null  object        \n",
      " 3   weekday   43476 non-null  category      \n",
      " 4   year      43476 non-null  category      \n",
      " 5   month     43476 non-null  category      \n",
      " 6   day       43476 non-null  category      \n",
      " 7   hour      43476 non-null  category      \n",
      "dtypes: category(5), datetime64[ns](1), float64(1), object(1)\n",
      "memory usage: 1.5+ MB\n"
     ]
    }
   ],
   "source": [
    "combine.info()"
   ]
  },
  {
   "cell_type": "code",
   "execution_count": 143,
   "id": "2c6bc907",
   "metadata": {},
   "outputs": [],
   "source": [
    "combine = combine.drop(['tempDate'], axis=1)"
   ]
  },
  {
   "cell_type": "code",
   "execution_count": 144,
   "id": "4ed59045",
   "metadata": {},
   "outputs": [],
   "source": [
    "train = combine[combine['datetime']<'20210101']"
   ]
  },
  {
   "cell_type": "code",
   "execution_count": 145,
   "id": "cb71ebb1",
   "metadata": {},
   "outputs": [],
   "source": [
    "test = combine[combine['datetime']>='20210101']"
   ]
  },
  {
   "cell_type": "code",
   "execution_count": 146,
   "id": "6fb62a7f",
   "metadata": {
    "scrolled": true
   },
   "outputs": [
    {
     "data": {
      "text/html": [
       "<div>\n",
       "<style scoped>\n",
       "    .dataframe tbody tr th:only-of-type {\n",
       "        vertical-align: middle;\n",
       "    }\n",
       "\n",
       "    .dataframe tbody tr th {\n",
       "        vertical-align: top;\n",
       "    }\n",
       "\n",
       "    .dataframe thead th {\n",
       "        text-align: right;\n",
       "    }\n",
       "</style>\n",
       "<table border=\"1\" class=\"dataframe\">\n",
       "  <thead>\n",
       "    <tr style=\"text-align: right;\">\n",
       "      <th></th>\n",
       "      <th>datetime</th>\n",
       "      <th>diff</th>\n",
       "      <th>weekday</th>\n",
       "      <th>year</th>\n",
       "      <th>month</th>\n",
       "      <th>day</th>\n",
       "      <th>hour</th>\n",
       "    </tr>\n",
       "  </thead>\n",
       "  <tbody>\n",
       "    <tr>\n",
       "      <th>0</th>\n",
       "      <td>2021-01-01 00:00:00</td>\n",
       "      <td>67.0</td>\n",
       "      <td>5</td>\n",
       "      <td>2021</td>\n",
       "      <td>1</td>\n",
       "      <td>1</td>\n",
       "      <td>0</td>\n",
       "    </tr>\n",
       "    <tr>\n",
       "      <th>1</th>\n",
       "      <td>2021-01-01 01:00:00</td>\n",
       "      <td>70.0</td>\n",
       "      <td>5</td>\n",
       "      <td>2021</td>\n",
       "      <td>1</td>\n",
       "      <td>1</td>\n",
       "      <td>1</td>\n",
       "    </tr>\n",
       "    <tr>\n",
       "      <th>2</th>\n",
       "      <td>2021-01-01 02:00:00</td>\n",
       "      <td>67.0</td>\n",
       "      <td>5</td>\n",
       "      <td>2021</td>\n",
       "      <td>1</td>\n",
       "      <td>1</td>\n",
       "      <td>2</td>\n",
       "    </tr>\n",
       "    <tr>\n",
       "      <th>3</th>\n",
       "      <td>2021-01-01 03:00:00</td>\n",
       "      <td>59.0</td>\n",
       "      <td>5</td>\n",
       "      <td>2021</td>\n",
       "      <td>1</td>\n",
       "      <td>1</td>\n",
       "      <td>3</td>\n",
       "    </tr>\n",
       "    <tr>\n",
       "      <th>4</th>\n",
       "      <td>2021-01-01 04:00:00</td>\n",
       "      <td>58.0</td>\n",
       "      <td>5</td>\n",
       "      <td>2021</td>\n",
       "      <td>1</td>\n",
       "      <td>1</td>\n",
       "      <td>4</td>\n",
       "    </tr>\n",
       "  </tbody>\n",
       "</table>\n",
       "</div>"
      ],
      "text/plain": [
       "             datetime  diff weekday  year month day hour\n",
       "0 2021-01-01 00:00:00  67.0       5  2021     1   1    0\n",
       "1 2021-01-01 01:00:00  70.0       5  2021     1   1    1\n",
       "2 2021-01-01 02:00:00  67.0       5  2021     1   1    2\n",
       "3 2021-01-01 03:00:00  59.0       5  2021     1   1    3\n",
       "4 2021-01-01 04:00:00  58.0       5  2021     1   1    4"
      ]
     },
     "execution_count": 146,
     "metadata": {},
     "output_type": "execute_result"
    }
   ],
   "source": [
    "test.head()"
   ]
  },
  {
   "cell_type": "code",
   "execution_count": 147,
   "id": "89138d26",
   "metadata": {},
   "outputs": [
    {
     "data": {
      "text/html": [
       "<div>\n",
       "<style scoped>\n",
       "    .dataframe tbody tr th:only-of-type {\n",
       "        vertical-align: middle;\n",
       "    }\n",
       "\n",
       "    .dataframe tbody tr th {\n",
       "        vertical-align: top;\n",
       "    }\n",
       "\n",
       "    .dataframe thead th {\n",
       "        text-align: right;\n",
       "    }\n",
       "</style>\n",
       "<table border=\"1\" class=\"dataframe\">\n",
       "  <thead>\n",
       "    <tr style=\"text-align: right;\">\n",
       "      <th></th>\n",
       "      <th>datetime</th>\n",
       "      <th>diff</th>\n",
       "      <th>weekday</th>\n",
       "      <th>year</th>\n",
       "      <th>month</th>\n",
       "      <th>day</th>\n",
       "      <th>hour</th>\n",
       "    </tr>\n",
       "  </thead>\n",
       "  <tbody>\n",
       "    <tr>\n",
       "      <th>35058</th>\n",
       "      <td>2020-12-31 19:00:00</td>\n",
       "      <td>237.0</td>\n",
       "      <td>4</td>\n",
       "      <td>2020</td>\n",
       "      <td>12</td>\n",
       "      <td>31</td>\n",
       "      <td>19</td>\n",
       "    </tr>\n",
       "    <tr>\n",
       "      <th>35059</th>\n",
       "      <td>2020-12-31 20:00:00</td>\n",
       "      <td>92.0</td>\n",
       "      <td>4</td>\n",
       "      <td>2020</td>\n",
       "      <td>12</td>\n",
       "      <td>31</td>\n",
       "      <td>20</td>\n",
       "    </tr>\n",
       "    <tr>\n",
       "      <th>35060</th>\n",
       "      <td>2020-12-31 21:00:00</td>\n",
       "      <td>82.0</td>\n",
       "      <td>4</td>\n",
       "      <td>2020</td>\n",
       "      <td>12</td>\n",
       "      <td>31</td>\n",
       "      <td>21</td>\n",
       "    </tr>\n",
       "    <tr>\n",
       "      <th>35061</th>\n",
       "      <td>2020-12-31 22:00:00</td>\n",
       "      <td>82.0</td>\n",
       "      <td>4</td>\n",
       "      <td>2020</td>\n",
       "      <td>12</td>\n",
       "      <td>31</td>\n",
       "      <td>22</td>\n",
       "    </tr>\n",
       "    <tr>\n",
       "      <th>35062</th>\n",
       "      <td>2020-12-31 23:00:00</td>\n",
       "      <td>74.0</td>\n",
       "      <td>4</td>\n",
       "      <td>2020</td>\n",
       "      <td>12</td>\n",
       "      <td>31</td>\n",
       "      <td>23</td>\n",
       "    </tr>\n",
       "  </tbody>\n",
       "</table>\n",
       "</div>"
      ],
      "text/plain": [
       "                 datetime   diff weekday  year month day hour\n",
       "35058 2020-12-31 19:00:00  237.0       4  2020    12  31   19\n",
       "35059 2020-12-31 20:00:00   92.0       4  2020    12  31   20\n",
       "35060 2020-12-31 21:00:00   82.0       4  2020    12  31   21\n",
       "35061 2020-12-31 22:00:00   82.0       4  2020    12  31   22\n",
       "35062 2020-12-31 23:00:00   74.0       4  2020    12  31   23"
      ]
     },
     "execution_count": 147,
     "metadata": {},
     "output_type": "execute_result"
    }
   ],
   "source": [
    "train.tail()"
   ]
  },
  {
   "cell_type": "code",
   "execution_count": 148,
   "id": "4771c4b1",
   "metadata": {},
   "outputs": [
    {
     "data": {
      "text/html": [
       "<div>\n",
       "<style scoped>\n",
       "    .dataframe tbody tr th:only-of-type {\n",
       "        vertical-align: middle;\n",
       "    }\n",
       "\n",
       "    .dataframe tbody tr th {\n",
       "        vertical-align: top;\n",
       "    }\n",
       "\n",
       "    .dataframe thead th {\n",
       "        text-align: right;\n",
       "    }\n",
       "</style>\n",
       "<table border=\"1\" class=\"dataframe\">\n",
       "  <thead>\n",
       "    <tr style=\"text-align: right;\">\n",
       "      <th></th>\n",
       "      <th>datetime</th>\n",
       "      <th>diff</th>\n",
       "      <th>weekday</th>\n",
       "      <th>year</th>\n",
       "      <th>month</th>\n",
       "      <th>day</th>\n",
       "      <th>hour</th>\n",
       "    </tr>\n",
       "  </thead>\n",
       "  <tbody>\n",
       "    <tr>\n",
       "      <th>0</th>\n",
       "      <td>2017-01-01 01:00:00</td>\n",
       "      <td>131.0</td>\n",
       "      <td>0</td>\n",
       "      <td>2017</td>\n",
       "      <td>1</td>\n",
       "      <td>1</td>\n",
       "      <td>1</td>\n",
       "    </tr>\n",
       "    <tr>\n",
       "      <th>1</th>\n",
       "      <td>2017-01-01 02:00:00</td>\n",
       "      <td>64.0</td>\n",
       "      <td>0</td>\n",
       "      <td>2017</td>\n",
       "      <td>1</td>\n",
       "      <td>1</td>\n",
       "      <td>2</td>\n",
       "    </tr>\n",
       "    <tr>\n",
       "      <th>2</th>\n",
       "      <td>2017-01-01 03:00:00</td>\n",
       "      <td>52.0</td>\n",
       "      <td>0</td>\n",
       "      <td>2017</td>\n",
       "      <td>1</td>\n",
       "      <td>1</td>\n",
       "      <td>3</td>\n",
       "    </tr>\n",
       "    <tr>\n",
       "      <th>3</th>\n",
       "      <td>2017-01-01 04:00:00</td>\n",
       "      <td>50.0</td>\n",
       "      <td>0</td>\n",
       "      <td>2017</td>\n",
       "      <td>1</td>\n",
       "      <td>1</td>\n",
       "      <td>4</td>\n",
       "    </tr>\n",
       "    <tr>\n",
       "      <th>4</th>\n",
       "      <td>2017-01-01 05:00:00</td>\n",
       "      <td>49.0</td>\n",
       "      <td>0</td>\n",
       "      <td>2017</td>\n",
       "      <td>1</td>\n",
       "      <td>1</td>\n",
       "      <td>5</td>\n",
       "    </tr>\n",
       "  </tbody>\n",
       "</table>\n",
       "</div>"
      ],
      "text/plain": [
       "             datetime   diff weekday  year month day hour\n",
       "0 2017-01-01 01:00:00  131.0       0  2017     1   1    1\n",
       "1 2017-01-01 02:00:00   64.0       0  2017     1   1    2\n",
       "2 2017-01-01 03:00:00   52.0       0  2017     1   1    3\n",
       "3 2017-01-01 04:00:00   50.0       0  2017     1   1    4\n",
       "4 2017-01-01 05:00:00   49.0       0  2017     1   1    5"
      ]
     },
     "execution_count": 148,
     "metadata": {},
     "output_type": "execute_result"
    }
   ],
   "source": [
    "train.head()"
   ]
  },
  {
   "cell_type": "code",
   "execution_count": 149,
   "id": "447d5c4c",
   "metadata": {},
   "outputs": [
    {
     "name": "stdout",
     "output_type": "stream",
     "text": [
      "<class 'pandas.core.frame.DataFrame'>\n",
      "Int64Index: 35052 entries, 0 to 35062\n",
      "Data columns (total 7 columns):\n",
      " #   Column    Non-Null Count  Dtype         \n",
      "---  ------    --------------  -----         \n",
      " 0   datetime  35052 non-null  datetime64[ns]\n",
      " 1   diff      35052 non-null  float64       \n",
      " 2   weekday   35052 non-null  category      \n",
      " 3   year      35052 non-null  category      \n",
      " 4   month     35052 non-null  category      \n",
      " 5   day       35052 non-null  category      \n",
      " 6   hour      35052 non-null  category      \n",
      "dtypes: category(5), datetime64[ns](1), float64(1)\n",
      "memory usage: 995.6 KB\n"
     ]
    }
   ],
   "source": [
    "train.info()"
   ]
  },
  {
   "cell_type": "code",
   "execution_count": 150,
   "id": "4f88a3d9",
   "metadata": {},
   "outputs": [
    {
     "data": {
      "text/plain": [
       "datetime    0\n",
       "diff        0\n",
       "weekday     0\n",
       "year        0\n",
       "month       0\n",
       "day         0\n",
       "hour        0\n",
       "dtype: int64"
      ]
     },
     "execution_count": 150,
     "metadata": {},
     "output_type": "execute_result"
    }
   ],
   "source": [
    "train.isnull().sum()"
   ]
  },
  {
   "cell_type": "code",
   "execution_count": 151,
   "id": "1acffc30",
   "metadata": {},
   "outputs": [],
   "source": [
    "train['diff'][train[train['diff']<0].index]=0"
   ]
  },
  {
   "cell_type": "code",
   "execution_count": 152,
   "id": "f9e9d436",
   "metadata": {},
   "outputs": [],
   "source": [
    "test['diff'][test[test['diff']<0].index]=0"
   ]
  },
  {
   "cell_type": "code",
   "execution_count": 154,
   "id": "2e1c0d46",
   "metadata": {},
   "outputs": [],
   "source": [
    "def rmsle(y, y_, convertExp = True):\n",
    "    if convertExp:\n",
    "        y=np.exp(y),\n",
    "        y_ = np.exp(y_)\n",
    "    log1 = np.nan_to_num(np.array([np.log(v+1) for v in y]))\n",
    "    log2 = np.nan_to_num(np.array([np.log(v+1) for v in y_]))\n",
    "    calc = (log1 - log2)**2\n",
    "    return np.sqrt(np.mean(calc))"
   ]
  },
  {
   "cell_type": "code",
   "execution_count": 155,
   "id": "c2d584dc",
   "metadata": {},
   "outputs": [],
   "source": [
    "# pip install sklearn"
   ]
  },
  {
   "cell_type": "code",
   "execution_count": 156,
   "id": "a65633ff",
   "metadata": {},
   "outputs": [],
   "source": [
    "#데이터 훈련 시 집어 넣을 결과값들\n",
    "datetimecol = test['datetime']\n",
    "yLabels = train['diff']"
   ]
  },
  {
   "cell_type": "code",
   "execution_count": 157,
   "id": "a48b20d0",
   "metadata": {},
   "outputs": [],
   "source": [
    "train['datetime'] = pd.to_numeric(train['datetime'])\n",
    "test['datetime'] = pd.to_numeric(test['datetime'])"
   ]
  },
  {
   "cell_type": "code",
   "execution_count": 161,
   "id": "1b78dcb4",
   "metadata": {},
   "outputs": [],
   "source": [
    "train = train.drop(['datetime'],axis=1)\n",
    "test = test.drop(['datetime'], axis=1)\n",
    "combine = combine.drop(['datetime'], axis=1)"
   ]
  },
  {
   "cell_type": "code",
   "execution_count": 164,
   "id": "342a2563",
   "metadata": {},
   "outputs": [],
   "source": []
  },
  {
   "cell_type": "code",
   "execution_count": 165,
   "id": "9718e727",
   "metadata": {},
   "outputs": [
    {
     "name": "stdout",
     "output_type": "stream",
     "text": [
      "RMSLE Value for linear Regression : 0.39363563607476443\n"
     ]
    }
   ],
   "source": [
    "#선형회귀 모델\n",
    "from sklearn.linear_model import LinearRegression, Ridge, Lasso\n",
    "\n",
    "lr = LinearRegression()\n",
    "\n",
    "yLabelslog = np.log1p(yLabels)\n",
    "# print(yLabelslog[yLabelslog.isnull()])\n",
    "lr.fit(train, yLabelslog)\n",
    "preds = lr.predict(train)\n",
    "print('RMSLE Value for linear Regression : {}'.format(rmsle(np.exp(yLabelslog), np.exp(preds), False)))"
   ]
  },
  {
   "cell_type": "code",
   "execution_count": 170,
   "id": "aec22987",
   "metadata": {},
   "outputs": [
    {
     "name": "stdout",
     "output_type": "stream",
     "text": [
      "{'alpha': 1000, 'max_iter': 3000}\n",
      "RMSLE Value for Ridge Regression 0.39363563607476443\n"
     ]
    }
   ],
   "source": [
    "#GridSearchCV\n",
    "from sklearn.model_selection import GridSearchCV\n",
    "from sklearn import metrics\n",
    "\n",
    "ridge = Ridge()\n",
    "\n",
    "ridge_params = {'max_iter':[3000],'alpha':[0.001,0.01,0.1,1,10,100,1000]}\n",
    "rmsle_scorer = metrics.make_scorer(rmsle, greater_is_better = False)\n",
    "grid_ridge = GridSearchCV(ridge, ridge_params, scoring = rmsle_scorer, cv=5)\n",
    "grid_ridge.fit(train, yLabelslog)\n",
    "print(grid_ridge.best_params_)\n",
    "print('RMSLE Value for Ridge Regression {}'.format(rmsle(np.exp(yLabelslog),np.exp(preds),False)))"
   ]
  },
  {
   "cell_type": "code",
   "execution_count": 171,
   "id": "5bbd3be5",
   "metadata": {},
   "outputs": [
    {
     "name": "stdout",
     "output_type": "stream",
     "text": [
      "RMSLE Value for Lasso Regression 0.3942353640860451\n"
     ]
    }
   ],
   "source": [
    "#Ridge모델은 L1제약을 가지는 선형회귀모델에서 개선된 모델이며 해당 모델에서 유의 깊게 튜닝해야하는 파라미터는 alpha값이다.\n",
    "lasso = Lasso()\n",
    "\n",
    "lasso_params = {'max_iter':[3000],'alpha':[0.001,0.01,0.1,1,10,100,1000]}\n",
    "grid_lasso = GridSearchCV(lasso,lasso_params,scoring=rmsle_scorer,cv=5)\n",
    "grid_lasso.fit(train,yLabelslog)\n",
    "preds = grid_lasso.predict(train)\n",
    "print(grid_lasso.best_params_)\n",
    "print('RMSLE Value for Lasso Regression {}'.format(rmsle(np.exp(yLabelslog),np.exp(preds),False)))"
   ]
  },
  {
   "cell_type": "code",
   "execution_count": 173,
   "id": "49a24313",
   "metadata": {},
   "outputs": [
    {
     "name": "stdout",
     "output_type": "stream",
     "text": [
      "RMSLE Value for RandomForest 0.0038502346891626568\n"
     ]
    }
   ],
   "source": [
    "from sklearn.ensemble import RandomForestRegressor\n",
    "rf = RandomForestRegressor()\n",
    "\n",
    "rf_params = {'n_estimators':[1,10,100]}\n",
    "grid_rf = GridSearchCV(rf,rf_params,scoring=rmsle_scorer,cv=5)\n",
    "grid_rf.fit(train,yLabelslog)\n",
    "preds = grid_rf.predict(train)\n",
    "print('RMSLE Value for RandomForest {}'.format(rmsle(np.exp(yLabelslog),np.exp(preds),False)))"
   ]
  },
  {
   "cell_type": "code",
   "execution_count": 174,
   "id": "24de92c5",
   "metadata": {},
   "outputs": [
    {
     "name": "stdout",
     "output_type": "stream",
     "text": [
      "RMSLE Value for GradientBoosting 1.2560319898390284e-05\n"
     ]
    }
   ],
   "source": [
    "from sklearn.ensemble import GradientBoostingRegressor\n",
    "\n",
    "gb = GradientBoostingRegressor()\n",
    "gb_params={'max_depth':range(1,11,1),'n_estimators':[1,10,100]}\n",
    "grid_gb=GridSearchCV(gb,gb_params,scoring=rmsle_scorer,cv=5)\n",
    "grid_gb.fit(train,yLabelslog)\n",
    "preds = grid_gb.predict(train)\n",
    "print('RMSLE Value for GradientBoosting {}'.format(rmsle(np.exp(yLabelslog),np.exp(preds),False)))"
   ]
  },
  {
   "cell_type": "code",
   "execution_count": null,
   "id": "a5bc32d7",
   "metadata": {},
   "outputs": [],
   "source": []
  }
 ],
 "metadata": {
  "kernelspec": {
   "display_name": "Python 3 (ipykernel)",
   "language": "python",
   "name": "python3"
  },
  "language_info": {
   "codemirror_mode": {
    "name": "ipython",
    "version": 3
   },
   "file_extension": ".py",
   "mimetype": "text/x-python",
   "name": "python",
   "nbconvert_exporter": "python",
   "pygments_lexer": "ipython3",
   "version": "3.10.8"
  }
 },
 "nbformat": 4,
 "nbformat_minor": 5
}
