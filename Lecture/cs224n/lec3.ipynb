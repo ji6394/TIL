{
 "cells": [
  {
   "cell_type": "markdown",
   "metadata": {},
   "source": [
    "### Lecture 3 : Neural net Learning - Gradients by hand(matrix calculus) and algorithm (The Backpropagation algorithm)\n",
    "1. Named Entity Recognition(NER, 개체명 인식 연구) : 고유명사에 대한 tagging, 이를 위해 context를 살펴보는 것이 중요.\n",
    "- Neural Network를 통해 NER을 수행할 수 있을까? 학습된 단어 벡터들을 이용해서 단어 벡터의 context window를 생성한 후 이를 신경망에 입력하고 logistic classifier를 거치게 하여 가령 해당 문맥이 location에 해당하는 확률이 높은지 아닌지를 통해 수행한다."
   ]
  },
  {
   "cell_type": "code",
   "execution_count": null,
   "metadata": {},
   "outputs": [],
   "source": []
  }
 ],
 "metadata": {
  "language_info": {
   "name": "python"
  }
 },
 "nbformat": 4,
 "nbformat_minor": 2
}
