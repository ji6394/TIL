{
 "cells": [
  {
   "cell_type": "markdown",
   "metadata": {},
   "source": [
    "### Lecture 4 : Syntactic Structure and Dependency Parsing\n",
    "1. 1. Two views of linguistic structure : Consistency = phrase structure grammar = context-free grammars(CFGs)\n",
    "- 사람들이 문장을 어떻게 생각하는지, 구조를 붙여서 어떻게 인간의 언어가 의미를 전달하는지를 설명하고자 함\n",
    "- 단어에 대해 생각할 때, 우리는 단어를 문장의 일부분이라고 생각할 수 있다.\n",
    "- 가령, the, cat, cuddly, by, door과 주어졌을 때, 각 단어를 형용사, 명사, 전치사, determinants 등등으로 생각\n",
    "- 우리가 소통할 때는 단어를 특정한 방식으로 조합하여 의미를 표현하고자 함.\n",
    "- formal languages에 대해 일반적으로 생각하는 방법은 context-free grammars라는 개념으로 접근하는 것이다.\n",
    "- 더 많은 단어들을 조합하여 구(phrases)를 구성할 수 있음. 더하여 구에 구를 합치면 더 큰 phrases를 구성할 수 있음.\n",
    "- 구 구조는 단어들을 묶어 의미전달\n",
    "- 예를 들어, the cat, a dog 라는 구 구조가 주어졌을 때, 어휘 사전(Lexicon)에 dog와 cat에는 Noun을, a와 the에는 determinant를 부여할 수 있다. 따라서 Noun Phrase = Determinant + Noun이라는 구조로 정립 가능\n",
    "- large, barkiing, cuddly라는 형용사가 추가되었을 때, Noun Phrase = determinant + (Adjective) + Noun의 구조로 구성할 수 있게 됨.\n",
    "- in a crate, on the table, by the door이라는 구가 추가된다면, Noun phrase = determinant + (Adjective) + Noun + (Prepositional Phrases)\n",
    "- talk to, walked behind와 같은 동사구가 추가되었을 때 역시 Verb Phrase = Verb + PrepositionPhrase로 구성 가능\n",
    "- 위에서 불리는 작업들을 Constituency grammar 이라고 부름. Constituency Grammar란 어떻게 문장 구조가 더 작은 문장 구조로 나뉘어질 수 있는지를 각 단어 수준까지 구성성분을 분석하는 문법.\n",
    "- Constituenct structure를 구성하는 일반적인 방법이 context-free grammar(CFG)에 해당. 문맥을 고려하지 않고 언어를 형식적으로 표현하는 방식\n",
    "1. 2. Dependency Structure(의존성 구문) : 각 단어가 다른 단어에 얼마나 의존하는지를 보여주고자 함.\n",
    "- 가령, Look in the large crate in the kitche by the door이라는 문장\n",
    "- large, the 각각 crate를 한정하며 crate가 look을 한정함\n",
    "- the가 kitchen과 door를 각각 한정함.\n",
    "- 다양한 의존 해석법이 있지만 보편적인 의존성이 존재함\n",
    "1. 3. 왜 문장구조가 필요한가? : 인간은 복잡한 생각을 단어를 조합하여 전달하고자 더 큰 단위의 단어를 구성하여 전달함. 청취자는 발화자의 순차적인 발화를 듣고 언어의 구조를 이해하여야 본질적인 의미를 이해할 수 있음. 따라서, 모델이 언어를 정확하게 해석할 수 있으려면 문장 구조를 반드시 이해하여야 함.\n",
    "- 각 언어가 다르고 언어 체계가 다름에서 발생하는 모호함이 존재함.\n",
    "- 가령, San jose cops kill man with knife. 문장을 어떻게 해석할 지 모호함\n",
    "- 문장의 어순에 따라 모호함의 양상이 다양함\n",
    "- 가령, Scientists count whales from space.\n",
    "- Prepositional Phrases를 비교적 자유롭게 배열할 수 있는 영어문장에서는 더욱 모호\n",
    "1. 4. 문장 구조를 이해하는 것은 해석에 도움을 줄 수 있음. \n",
    "2. 의존성 문법 : 문장 구조는 단어 쌍(pair)의 관계로 이루어져 있다고 가정. 단어 간에 어떤 문법적 관계(subject, prepositional object, apposition 등)가 존재하는지를 화살표와 함께 입력. dependency를 통해 tree 구성 가능.\n"
   ]
  },
  {
   "cell_type": "markdown",
   "metadata": {},
   "source": []
  },
  {
   "cell_type": "code",
   "execution_count": null,
   "metadata": {},
   "outputs": [],
   "source": []
  }
 ],
 "metadata": {
  "language_info": {
   "name": "python"
  }
 },
 "nbformat": 4,
 "nbformat_minor": 2
}
